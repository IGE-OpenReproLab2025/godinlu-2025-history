{
 "cells": [
  {
   "cell_type": "markdown",
   "id": "9ffa0689",
   "metadata": {},
   "source": [
    "# Casa Grande KH-9 Mapping Camera preprocessing"
   ]
  },
  {
   "cell_type": "code",
   "execution_count": 2,
   "id": "431be80c",
   "metadata": {},
   "outputs": [],
   "source": [
    "import hipp\n",
    "import usgsxplore\n",
    "import os\n",
    "import geopandas as gpd"
   ]
  },
  {
   "cell_type": "markdown",
   "id": "aeead233",
   "metadata": {},
   "source": [
    "## Settings"
   ]
  },
  {
   "cell_type": "code",
   "execution_count": null,
   "id": "e5671cdb",
   "metadata": {},
   "outputs": [],
   "source": [
    "# path settings\n",
    "PROJECT_DIRECTORY = \"data/casa_grande/kh9_pc_images/1978_03_25\"\n",
    "RAW_IMAGES_DIRECTORY = os.path.join(PROJECT_DIRECTORY, \"raw_images\")\n",
    "PREPROCESSED_IMAGES_DIRECTORY = os.path.join(PROJECT_DIRECTORY, \"preprocessed_images\")\n",
    "JOINED_IMAGES_DIRECTORY = os.path.join(PROJECT_DIRECTORY, \"joined_images\")\n",
    "\n",
    "# others settings\n",
    "QUICKVIEWS_FACTOR = 0.05\n",
    "MAX_WORKERS = 8"
   ]
  },
  {
   "cell_type": "code",
   "execution_count": null,
   "id": "90461aac",
   "metadata": {},
   "outputs": [],
   "source": [
    "username = os.getenv(\"USGS_USERNAME\") or input(\"Enter your USGS username: \")\n",
    "token = os.getenv(\"USGS_TOKEN\") or input(\"Enter your USGS token: \")\n",
    "\n",
    "gdf = gpd.read_file(os.path.join(PROJECT_DIRECTORY, \"images_footprint.geojson\"))\n",
    "entity_ids = gdf[\"Entity  ID\"].to_list()\n",
    "product_number = 1 # for the high resolution Product\n",
    "\n",
    "# connect to the API, download raw images and logout\n",
    "api = usgsxplore.API(username, token)\n",
    "api.download(\"aerial_combin\", entity_ids, product_number=product_number, output_dir=RAW_IMAGES_DIRECTORY)\n",
    "api.logout()\n",
    "\n",
    "hipp.tools.optimize_geotifs(RAW_IMAGES_DIRECTORY, max_workers=8)\n",
    "hipp.tools.generate_quickviews(RAW_IMAGES_DIRECTORY, QUICKVIEWS_FACTOR, max_workers=8)"
   ]
  }
 ],
 "metadata": {
  "kernelspec": {
   "display_name": "history",
   "language": "python",
   "name": "python3"
  },
  "language_info": {
   "codemirror_mode": {
    "name": "ipython",
    "version": 3
   },
   "file_extension": ".py",
   "mimetype": "text/x-python",
   "name": "python",
   "nbconvert_exporter": "python",
   "pygments_lexer": "ipython3",
   "version": "3.11.13"
  }
 },
 "nbformat": 4,
 "nbformat_minor": 5
}
